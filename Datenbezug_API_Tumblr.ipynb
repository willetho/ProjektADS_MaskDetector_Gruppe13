{
 "cells": [
  {
   "cell_type": "markdown",
   "id": "statewide-sixth",
   "metadata": {},
   "source": [
    "# Tumblr REST API (covidmask)"
   ]
  },
  {
   "cell_type": "code",
   "execution_count": 1,
   "id": "traditional-montana",
   "metadata": {},
   "outputs": [],
   "source": [
    "import requests\n",
    "import time\n",
    "import shutil"
   ]
  },
  {
   "cell_type": "code",
   "execution_count": 4,
   "id": "69ab0f57-a558-4968-93ce-b499794473d3",
   "metadata": {},
   "outputs": [],
   "source": [
    "LOOP = 5\n",
    "URL = 'https://api.tumblr.com/v2/tagged'\n",
    "payload = {\n",
    "    'api_key': 'saORsssSfwsI1GuRZ3Tx5mAuZLLbmVih3BzqwC62aQb8eGitaf',\n",
    "    'tag': 'covidmask'\n",
    "}\n",
    "image_idx = 0\n",
    "\n",
    "photo_urls = []\n",
    "for i in range(LOOP):\n",
    "    response_json = requests.get(URL, params=payload).json()\n",
    "    for data in response_json['response']:\n",
    "        if data['type'] != 'photo':\n",
    "            continue\n",
    "        for photo in data['photos']:\n",
    "            photo_urls.append(photo['original_size']['url'])\n",
    "    if(len(response_json['response']) == 0):\n",
    "        continue\n",
    "    payload['before'] = response_json['response'][(len(response_json['response']) - 1)]['timestamp']\n",
    "\n",
    "for photo_url in photo_urls:\n",
    "    path = \"C:/Users/linda/ADS_Projekt/\" + str(image_idx) + \".png \"\n",
    "    r = requests.get(photo_url, stream=True)\n",
    "    if r.status_code == 200:\n",
    "      with open(path, 'wb') as f:\n",
    "        r.raw.decode_content = True\n",
    "        shutil.copyfileobj(r.raw, f)\n",
    "      image_idx+=1\n",
    "    "
   ]
  },
  {
   "cell_type": "code",
   "execution_count": null,
   "id": "8e67d3cf-17ee-4868-b17d-79643f032f9e",
   "metadata": {},
   "outputs": [],
   "source": []
  }
 ],
 "metadata": {
  "kernelspec": {
   "display_name": "Python 3",
   "language": "python",
   "name": "python3"
  },
  "language_info": {
   "codemirror_mode": {
    "name": "ipython",
    "version": 3
   },
   "file_extension": ".py",
   "mimetype": "text/x-python",
   "name": "python",
   "nbconvert_exporter": "python",
   "pygments_lexer": "ipython3",
   "version": "3.8.8"
  },
  "toc": {
   "base_numbering": 1,
   "nav_menu": {},
   "number_sections": true,
   "sideBar": true,
   "skip_h1_title": false,
   "title_cell": "Table of Contents",
   "title_sidebar": "Contents",
   "toc_cell": false,
   "toc_position": {},
   "toc_section_display": true,
   "toc_window_display": false
  }
 },
 "nbformat": 4,
 "nbformat_minor": 5
}
