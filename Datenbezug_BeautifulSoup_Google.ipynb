{
 "cells": [
  {
   "cell_type": "code",
   "execution_count": 4,
   "metadata": {},
   "outputs": [],
   "source": [
    "import os\n",
    "import requests\n",
    "from bs4 import BeautifulSoup"
   ]
  },
  {
   "cell_type": "code",
   "execution_count": 5,
   "metadata": {},
   "outputs": [],
   "source": [
    "Google_Img = \\\n",
    "    'https://www.google.com/search?site=&tbm=isch&source=hp&biw=1873&bih=990&'\n",
    "\n",
    "u_agnt = {\n",
    "    'User-Agent': 'Mozilla/5.0 (Windows NT 10.0; Win64; x64) AppleWebKit/537.36 (KHTML, like Gecko) Chrome/101.0.4951.54 Safari/537.36',\n",
    "    'Accept': 'text/html,application/xhtml+xml,application/xml;q=0.9,*/*;q=0.8',\n",
    "    'Accept-Charset': 'ISO-8859-1,utf-8;q=0.7,*;q=0.3',\n",
    "    'Accept-Encoding': 'none',\n",
    "    'Accept-Language': 'en-US,en;q=0.8',\n",
    "    'Connection': 'keep-alive',\n",
    "}"
   ]
  },
  {
   "cell_type": "code",
   "execution_count": 6,
   "metadata": {},
   "outputs": [
    {
     "name": "stdout",
     "output_type": "stream",
     "text": [
      "Such-Keywörter eingeben: people\n",
      "Wie viele Bilder: 80\n",
      "Bilder werden gesucht :)! Uno momento....\n",
      "80 Bilder gefunden\n",
      "Download wird gestartet...\n",
      "Download abgschlossen! :)\n"
     ]
    }
   ],
   "source": [
    "Img_Ord = 'Scrapped_Img'\n",
    "def main():\n",
    "    if not os.path.exists(Img_Ord):\n",
    "        os.mkdir(Img_Ord)\n",
    "    Scrap_img()\n",
    "    \n",
    "def Scrap_img():\n",
    "    data = input('Such-Keywörter eingeben: ')\n",
    "    anz_img = int(input('Wie viele Bilder: '))\n",
    "    \n",
    "    print('Bilder werden gesucht :)! Uno momento....')\n",
    "    url = Google_Img + 'q=' + data\n",
    "    \n",
    "    response = requests.get(url, headers=u_agnt)\n",
    "   \n",
    "    b_sp = BeautifulSoup(response.text, 'html.parser')\n",
    "    results = b_sp.findAll('img', {'class': 'rg_i Q4LuWd'})\n",
    "    \n",
    "    count = 0\n",
    "    imglinks = []\n",
    "    for res in results:\n",
    "        try:\n",
    "            link = res['data-src']\n",
    "            imglinks.append(link)\n",
    "            count = count + 1\n",
    "            if (count >= anz_img):\n",
    "                break\n",
    "            \n",
    "        except KeyError:\n",
    "            continue\n",
    "    \n",
    "    print(f'{len(imglinks)} Bilder gefunden')\n",
    "    print('Download wird gestartet...')\n",
    "\n",
    "    for i, imglink in enumerate(imglinks):\n",
    "        response = requests.get(imglink)\n",
    "        \n",
    "        img_name = Img_Ord + '/' + data + str(i+1) + '.jpg'\n",
    "        with open(img_name, 'wb') as file:\n",
    "            file.write(response.content)\n",
    "\n",
    "    print('Download abgschlossen! :)')\n",
    "    \n",
    "if __name__ == '__main__':\n",
    "    main()"
   ]
  },
  {
   "cell_type": "code",
   "execution_count": null,
   "metadata": {},
   "outputs": [],
   "source": []
  }
 ],
 "metadata": {
  "kernelspec": {
   "display_name": "Python 3",
   "language": "python",
   "name": "python3"
  },
  "language_info": {
   "codemirror_mode": {
    "name": "ipython",
    "version": 3
   },
   "file_extension": ".py",
   "mimetype": "text/x-python",
   "name": "python",
   "nbconvert_exporter": "python",
   "pygments_lexer": "ipython3",
   "version": "3.8.8"
  }
 },
 "nbformat": 4,
 "nbformat_minor": 4
}
